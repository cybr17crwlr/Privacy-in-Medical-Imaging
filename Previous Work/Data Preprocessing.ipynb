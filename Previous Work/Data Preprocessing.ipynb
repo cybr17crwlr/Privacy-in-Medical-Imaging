{
 "cells": [
  {
   "cell_type": "code",
   "execution_count": null,
   "id": "1c565187",
   "metadata": {},
   "outputs": [],
   "source": [
    "# Unzipping the 'archive.zip' file\n",
    "!unzip archive.zip"
   ]
  },
  {
   "cell_type": "code",
   "execution_count": 3,
   "id": "89ad46f7",
   "metadata": {},
   "outputs": [],
   "source": [
    "import numpy as np \n",
    "import pandas as pd \n",
    "import matplotlib.pyplot as plt\n",
    "from matplotlib.image import imread\n",
    "import seaborn as sns\n",
    "import random\n",
    "#import cv2\n",
    "import copy\n",
    "import os\n",
    "from sklearn.model_selection import train_test_split\n",
    "import time\n",
    "\n",
    "import torch\n",
    "import torch.nn as nn\n",
    "import torch.nn.functional as F\n",
    "import torchvision\n",
    "import torchvision.models as models\n",
    "from torchvision.datasets import ImageFolder\n",
    "from torchvision.utils import make_grid\n",
    "import torchvision.transforms as transform\n",
    "from torch.utils.data import Dataset, DataLoader, ConcatDataset\n",
    "from PIL import Image\n",
    "\n",
    "from mlxtend.plotting import plot_confusion_matrix\n",
    "from sklearn.metrics import confusion_matrix\n",
    " \n",
    "device = torch.device('cuda:0' if torch.cuda.is_available() else 'cpu')"
   ]
  },
  {
   "cell_type": "code",
   "execution_count": 4,
   "id": "f02b12b8",
   "metadata": {},
   "outputs": [],
   "source": [
    "# Specify the path to the dataset\n",
    "path = 'chest_xray/chest_xray'"
   ]
  },
  {
   "cell_type": "code",
   "execution_count": 5,
   "id": "154fcc22",
   "metadata": {},
   "outputs": [
    {
     "data": {
      "image/png": "[encoded data removed]",
      "text/plain": [
       "<Figure size 432x288 with 1 Axes>"
      ]
     },
     "metadata": {
      "needs_background": "light"
     },
     "output_type": "display_data"
    }
   ],
   "source": [
    "# Count the number of samples in the training set for each class\n",
    "train_samplesize = pd.DataFrame.from_dict(\n",
    "    {'Normal': [len([os.path.join(path+'/train/NORMAL', filename) \n",
    "                     for filename in os.listdir(path+'/train/NORMAL')])], \n",
    "     'Pneumonia': [len([os.path.join(path+'/train/PNEUMONIA', filename) \n",
    "                        for filename in os.listdir(path+'/train/PNEUMONIA')])]})\n",
    "\n",
    "# Visualize the data imbalance in the training set using a bar plot\n",
    "sns.barplot(data=train_samplesize).set_title('Training Set Data Inbalance', fontsize=20)\n",
    "plt.show()"
   ]
  },
  {
   "cell_type": "code",
   "execution_count": 6,
   "id": "9e6a7056",
   "metadata": {},
   "outputs": [],
   "source": [
    "# Define the transformations for each dataset\n",
    "transformer = {\n",
    "    'dataset1': transform.Compose([transform.Resize(255),\n",
    "                                            transform.CenterCrop(224),\n",
    "                                            transform.RandomHorizontalFlip(),\n",
    "                                            transform.RandomRotation(10),\n",
    "                                            transform.RandomGrayscale(),\n",
    "                                            transform.RandomAffine(translate=(0.05,0.05), degrees=0),\n",
    "                                            transform.ToTensor()\n",
    "                                           ]),\n",
    "    \n",
    "    'dataset2' : transform.Compose([transform.Resize(255),\n",
    "                                            transform.CenterCrop(224),\n",
    "                                            transform.RandomHorizontalFlip(p=1),\n",
    "                                            transform.RandomGrayscale(),\n",
    "                                            transform.RandomAffine(translate=(0.1,0.05), degrees=10),\n",
    "                                            transform.ToTensor()\n",
    "                                    \n",
    "                                           ]),\n",
    "    'dataset3' : transform.Compose([transform.Resize(255),\n",
    "                                            transform.CenterCrop(224),\n",
    "                                            transform.RandomHorizontalFlip(p=0.5),\n",
    "                                            transform.RandomRotation(15),\n",
    "                                            transform.RandomGrayscale(p=1),\n",
    "                                            transform.RandomAffine(translate=(0.08,0.1), degrees=15),\n",
    "                                            transform.ToTensor()\n",
    "                                           ]),\n",
    "}\n"
   ]
  },
  {
   "cell_type": "code",
   "execution_count": 7,
   "id": "93312303",
   "metadata": {},
   "outputs": [
    {
     "data": {
      "text/plain": [
       "7750"
      ]
     },
     "execution_count": 7,
     "metadata": {},
     "output_type": "execute_result"
    }
   ],
   "source": [
    "# Create the ImageFolder datasets using the defined transformations\n",
    "dataset1 = ImageFolder(path+'/train', \n",
    "                      transform=transformer['dataset1'])\n",
    "\n",
    "dataset2 = ImageFolder(path+'/train', \n",
    "                      transform=transformer['dataset2'])\n",
    "\n",
    "dataset3 = ImageFolder(path+'/train', \n",
    "                      transform=transformer['dataset3'])\n",
    "\n",
    "\n",
    "# Split the datasets for balancing\n",
    "norm1, _ = train_test_split(dataset2, test_size= 3875/(1341+3875), shuffle=False)\n",
    "norm2, _ = train_test_split(dataset3, test_size= 4023/(1341+3875), shuffle=False)\n",
    "\n",
    "# Concatenate the datasets\n",
    "dataset = ConcatDataset([dataset1, norm1, norm2])\n",
    "\n",
    "# Calculate the length of the concatenated dataset\n",
    "len(dataset)"
   ]
  },
  {
   "cell_type": "code",
   "execution_count": 8,
   "id": "023c7670",
   "metadata": {},
   "outputs": [
    {
     "data": {
      "text/plain": [
       "(5425, 2325)"
      ]
     },
     "execution_count": 8,
     "metadata": {},
     "output_type": "execute_result"
    }
   ],
   "source": [
    "random_seed = 2020\n",
    "train_ds, val_ds = train_test_split(dataset, test_size=0.3, random_state=random_seed)\n",
    "len(train_ds), len(val_ds)"
   ]
  },
  {
   "cell_type": "code",
   "execution_count": 9,
   "id": "e0c60ee5",
   "metadata": {},
   "outputs": [],
   "source": [
    "X_train = []\n",
    "y_train = []\n",
    "\n",
    "for i in range(len(train_ds)):\n",
    "    X_train.append(train_ds[i][0])\n",
    "    y_train.append(train_ds[i][1])"
   ]
  },
  {
   "cell_type": "code",
   "execution_count": 10,
   "id": "9821068d",
   "metadata": {},
   "outputs": [],
   "source": [
    "batch_size=50\n",
    "\n",
    "train_dl = DataLoader(train_ds, batch_size, shuffle=True, num_workers=4, pin_memory=True)\n",
    "val_dl = DataLoader(val_ds, batch_size*2, num_workers=4, pin_memory=True)\n",
    "loaders = {'train':train_dl, 'val':val_dl}\n",
    "dataset_sizes = {'train':len(train_ds), 'val':len(val_ds)}"
   ]
  },
  {
   "cell_type": "code",
   "execution_count": 11,
   "id": "447c497d",
   "metadata": {},
   "outputs": [],
   "source": [
    "testset = ImageFolder(path+'/test', \n",
    "                           transform=transform.Compose([transform.Resize(255),\n",
    "                                                 transform.CenterCrop(224),                                                              \n",
    "                                                 transform.ToTensor(),\n",
    "                                                ]))"
   ]
  },
  {
   "cell_type": "code",
   "execution_count": 12,
   "id": "912a55d8",
   "metadata": {},
   "outputs": [],
   "source": [
    "test_ds, test1_ds = train_test_split(testset, test_size=0.001, random_state=random_seed)"
   ]
  },
  {
   "cell_type": "code",
   "execution_count": 13,
   "id": "79c50e51",
   "metadata": {},
   "outputs": [],
   "source": [
    "X_test = []\n",
    "y_test = []\n",
    "\n",
    "for i in range(len(test_ds)):\n",
    "    X_test.append(test_ds[i][0])\n",
    "    y_test.append(test_ds[i][1])"
   ]
  },
  {
   "cell_type": "code",
   "execution_count": 14,
   "id": "e017675f",
   "metadata": {},
   "outputs": [],
   "source": [
    "test_dl = DataLoader(testset, batch_size=256)\n"
   ]
  },
  {
   "cell_type": "code",
   "execution_count": 15,
   "id": "71be6e0a",
   "metadata": {},
   "outputs": [
    {
     "name": "stdout",
     "output_type": "stream",
     "text": [
      "['NORMAL', 'PNEUMONIA']\n"
     ]
    }
   ],
   "source": [
    "print(dataset1.classes)"
   ]
  },
  {
   "cell_type": "code",
   "execution_count": 16,
   "id": "c58c65ed",
   "metadata": {},
   "outputs": [],
   "source": [
    "# Function for plotting samples\n",
    "def plot_samples(samples):  \n",
    "    fig, ax = plt.subplots(nrows=2, ncols=5, figsize=(30,8))\n",
    "    for i in range(len(samples)):\n",
    "        image = cv2.cvtColor(imread(samples[i]), cv2.COLOR_BGR2RGB)\n",
    "        ax[i//5][i%5].imshow(image)\n",
    "        if i<5:\n",
    "            ax[i//5][i%5].set_title(\"Normal\", fontsize=20)\n",
    "        else:\n",
    "            ax[i//5][i%5].set_title(\"Pneumonia\", fontsize=20)\n",
    "        ax[i//5][i%5].axis('off')"
   ]
  },
  {
   "cell_type": "code",
   "execution_count": 17,
   "id": "8d26dcb4",
   "metadata": {},
   "outputs": [
    {
     "name": "stdout",
     "output_type": "stream",
     "text": [
      "(5425, 3, 224, 224) (5425,)\n",
      "(5425, 224, 224, 3) (5425, 1)\n"
     ]
    }
   ],
   "source": [
    "X_train = torch.stack(X_train)\n",
    "y_train = torch.tensor(y_train)\n",
    "\n",
    "X_train = np.asarray(X_train)\n",
    "\n",
    "y_train = np.asarray(y_train)\n",
    "\n",
    "print(X_train.shape, y_train.shape)\n",
    "\n",
    "X_train = X_train.reshape((5425,224,224,3))\n",
    "y_train = y_train.reshape((5425,1))\n",
    "print(X_train.shape, y_train.shape)"
   ]
  },
  {
   "cell_type": "code",
   "execution_count": 18,
   "id": "226f613c",
   "metadata": {},
   "outputs": [
    {
     "name": "stdout",
     "output_type": "stream",
     "text": [
      "(623, 3, 224, 224) (623,)\n",
      "(623, 224, 224, 3) (623, 1)\n"
     ]
    }
   ],
   "source": [
    "X_test = torch.stack(X_test)\n",
    "y_test = torch.tensor(y_test)\n",
    "\n",
    "X_test = np.asarray(X_test)\n",
    "\n",
    "y_test = np.asarray(y_test)\n",
    "\n",
    "print(X_test.shape, y_test.shape)\n",
    "\n",
    "X_test = X_test.reshape((623,224,224,3))\n",
    "y_test = y_test.reshape((623,1))\n",
    "print(X_test.shape, y_test.shape)"
   ]
  },
  {
   "cell_type": "code",
   "execution_count": 19,
   "id": "4a487a6e",
   "metadata": {},
   "outputs": [],
   "source": [
    "\n",
    "\n",
    "y_train = np.eye(2)[y_train]\n",
    "y_test = np.eye(2)[y_test]\n"
   ]
  },
  {
   "cell_type": "code",
   "execution_count": null,
   "id": "e5c96109",
   "metadata": {},
   "outputs": [],
   "source": [
    "np.save('X_train.npy', X_train)\n",
    "np.save('X_test.npy', X_test)\n",
    "np.save('y_train.npy', y_train)\n",
    "np.save('y_test.npy', y_test)"
   ]
  }
 ],
 "metadata": {
  "kernelspec": {
   "display_name": "Python 3 (ipykernel)",
   "language": "python",
   "name": "python3"
  },
  "language_info": {
   "codemirror_mode": {
    "name": "ipython",
    "version": 3
   },
   "file_extension": ".py",
   "mimetype": "text/x-python",
   "name": "python",
   "nbconvert_exporter": "python",
   "pygments_lexer": "ipython3",
   "version": "3.8.13"
  }
 },
 "nbformat": 4,
 "nbformat_minor": 5
}
