{
  "cells": [
    {
      "cell_type": "markdown",
      "metadata": {
        "id": "FUWqArj_q8vs"
      },
      "source": [
        "## Setup\n"
      ]
    },
    {
      "cell_type": "code",
      "execution_count": null,
      "metadata": {
        "id": "Lr1pwHcbralz"
      },
      "outputs": [],
      "source": [
        "import numpy as np\n",
        "from typing import Tuple\n",
        "from scipy import special\n",
        "from sklearn import metrics\n",
        "import sklearn\n",
        "\n",
        "from matplotlib import pyplot as plt\n",
        "\n",
        "from glob import glob\n",
        "import os\n",
        "import shutil\n",
        "\n",
        "import pandas as pd\n",
        "from tqdm.notebook import tqdm\n",
        "\n",
        "import cv2\n",
        "\n",
        "import tensorflow as tf\n",
        "tf.config.run_functions_eagerly(True)\n",
        "tf.data.experimental.enable_debug_mode()\n",
        "import tensorflow_datasets as tfds\n",
        "\n",
        "# Set verbosity.\n",
        "tf.compat.v1.logging.set_verbosity(tf.compat.v1.logging.ERROR)\n",
        "from sklearn.exceptions import ConvergenceWarning\n",
        "\n",
        "import warnings\n",
        "warnings.simplefilter(action=\"ignore\", category=ConvergenceWarning)\n",
        "warnings.simplefilter(action=\"ignore\", category=FutureWarning)"
      ]
    },
    {
      "cell_type": "markdown",
      "metadata": {
        "colab": {
          "base_uri": "https://localhost:8080/"
        },
        "id": "eDO8djw6ZFUc",
        "outputId": "afc33229-9d74-43fb-c08d-5ca3b984dcdd"
      },
      "source": [
        "## Download Dataset\n",
        "\n",
        "https://drive.google.com/drive/folders/198iMVj0xTOU7-FEPhuopc2wXGnKpSCW1?usp=sharing"
      ]
    },
    {
      "cell_type": "code",
      "execution_count": null,
      "metadata": {
        "id": "YnD3Gk7KgQRm"
      },
      "outputs": [],
      "source": [
        "dataset_folder = 'training'\n",
        "image_files = glob(os.path.join(dataset_folder,'*/*.png'))\n",
        "image_files = pd.Series(image_files).str.rsplit('/',n=1,expand=True)\n",
        "image_files.columns=['Folder','Image Index']\n",
        "\n",
        "images = pd.read_csv(os.path.join(dataset_folder,'Data_Entry_2017.csv'))\n",
        "images = image_files.merge(images.join(images['Finding Labels'].str.get_dummies()),on='Image Index',how='left')\n",
        "dataset = images[['Folder', 'Image Index', 'Pneumonia']].copy()\n",
        "\n",
        "dataset.rename(columns={'Pneumonia':'label'},inplace=True)\n",
        "num_classes = dataset.label.nunique()"
      ]
    },
    {
      "cell_type": "code",
      "execution_count": null,
      "metadata": {
        "colab": {
          "base_uri": "https://localhost:8080/",
          "height": 424
        },
        "id": "McnePaUmp6X4",
        "outputId": "79aedb0f-5b94-42ed-985f-1826f5d37c56"
      },
      "outputs": [],
      "source": [
        "print(dataset)"
      ]
    },
    {
      "cell_type": "code",
      "execution_count": null,
      "metadata": {
        "id": "45rMI2BEqIZe"
      },
      "outputs": [],
      "source": [
        "activation = 'relu'\n",
        "epoch_toptrain = 20\n",
        "total_epochs = 100\n",
        "batchsize = 16\n",
        "\n",
        "val_freq = 5\n",
        "val_split = 0.2\n",
        "\n",
        "imagesize=(256,256,3)\n",
        "\n",
        "lr_stage1 = 0.001\n",
        "lr_stage2 = 1e-5\n",
        "\n",
        "seed = 123\n",
        "shuffle = True\n",
        "layer_map = {1:'grayscale',3:'rgb'}"
      ]
    },
    {
      "cell_type": "code",
      "execution_count": null,
      "metadata": {
        "colab": {
          "base_uri": "https://localhost:8080/"
        },
        "id": "C4iFfw77sjTH",
        "outputId": "0ae20f80-c990-4319-c181-4bec28eacd50"
      },
      "outputs": [],
      "source": [
        "train_ds = tf.keras.utils.image_dataset_from_directory(dataset_folder,\n",
        "                                                       color_mode=layer_map[imagesize[2]],\n",
        "                                                       image_size=imagesize[:2],\n",
        "                                                       shuffle=shuffle,\n",
        "                                                       label_mode='categorical',\n",
        "                                                       validation_split=val_split,\n",
        "                                                       batch_size=batchsize,\n",
        "                                                       seed=seed,\n",
        "                                                       subset='training')\n",
        "val_ds = tf.keras.utils.image_dataset_from_directory(dataset_folder,\n",
        "                                                       color_mode=layer_map[imagesize[2]],\n",
        "                                                       image_size=imagesize[:2],\n",
        "                                                       shuffle=shuffle,\n",
        "                                                       label_mode='categorical',\n",
        "                                                       validation_split=val_split,\n",
        "                                                       batch_size=batchsize,\n",
        "                                                       seed=seed,\n",
        "                                                       subset='validation')"
      ]
    },
    {
      "cell_type": "code",
      "execution_count": null,
      "metadata": {
        "id": "6sXCqr5nt_UC"
      },
      "outputs": [],
      "source": [
        "efficientnet = tf.keras.applications.efficientnet_v2.EfficientNetV2B0(include_top = False,\n",
        "                                                             weights='imagenet',\n",
        "                                                             input_shape=imagesize,\n",
        "                                                             pooling='max')\n",
        "\n",
        "x = efficientnet.output\n",
        "x = tf.keras.layers.Dense(1024, activation='relu')(x)\n",
        "\n",
        "predictions = tf.keras.layers.Dense(num_classes, activation='softmax')(x)\n",
        "\n",
        "net = tf.keras.Model(inputs = efficientnet.input, outputs = predictions)\n",
        "\n",
        "for layer in efficientnet.layers:\n",
        "    layer.trainable = False\n",
        "\n",
        "net.compile(\n",
        "    loss='categorical_crossentropy',\n",
        "    optimizer=tf.keras.optimizers.Adam(learning_rate=lr),\n",
        "    metrics=['accuracy'])\n",
        "\n",
        "net.summary()"
      ]
    },
    {
      "cell_type": "code",
      "execution_count": null,
      "metadata": {
        "id": "VnDBfIxneejf"
      },
      "outputs": [],
      "source": [
        "checkpoint_filepath='checkpoint/efficientnet_stage1'\n",
        "model_checkpoint_callback = tf.keras.callbacks.ModelCheckpoint(\n",
        "    filepath = checkpoint_filepath,\n",
        "    save_weights_only = True,\n",
        "    monitor='val_accuracy',\n",
        "    mode='max',\n",
        "    save_best_only=True)\n",
        "\n",
        "net.fit(train_ds,\n",
        "         validation_data=val_ds,\n",
        "         epochs=epoch_toptrain,\n",
        "         validation_freq=val_freq,\n",
        "         callbacks=[model_checkpoint_callback],\n",
        "         verbose=1)"
      ]
    },
    {
      "cell_type": "code",
      "execution_count": null,
      "metadata": {
        "colab": {
          "base_uri": "https://localhost:8080/"
        },
        "id": "tY0PUr9S4vJx",
        "outputId": "f48e9c6a-ace1-4ddc-c01a-69e96f7247ed"
      },
      "outputs": [],
      "source": [
        "imagesize_top = (224,224,3)\n",
        "\n",
        "train_ds_top = tf.keras.utils.image_dataset_from_directory(dataset_folder,\n",
        "                                                       color_mode=layer_map[imagesize_top[2]],\n",
        "                                                       image_size=imagesize_top[:2],\n",
        "                                                       shuffle=shuffle,\n",
        "                                                       label_mode='categorical',\n",
        "                                                       validation_split=val_split,\n",
        "                                                       batch_size=batchsize,\n",
        "                                                       seed=seed,\n",
        "                                                       subset='training')\n",
        "val_ds_top = tf.keras.utils.image_dataset_from_directory(dataset_folder,\n",
        "                                                       color_mode=layer_map[imagesize_top[2]],\n",
        "                                                       image_size=imagesize_top[:2],\n",
        "                                                       shuffle=shuffle,\n",
        "                                                       label_mode='categorical',\n",
        "                                                       validation_split=val_split,\n",
        "                                                       batch_size=batchsize,\n",
        "                                                       seed=seed,\n",
        "                                                       subset='validation')"
      ]
    },
    {
      "cell_type": "code",
      "execution_count": null,
      "metadata": {
        "colab": {
          "base_uri": "https://localhost:8080/"
        },
        "id": "A2VeJ4w33vOQ",
        "outputId": "e5819d80-62ee-4604-ce2c-b7207042ba66"
      },
      "outputs": [],
      "source": [
        "efficientnet_top = tf.keras.applications.efficientnet_v2.EfficientNetV2B0(include_top = True,\n",
        "                                                                          weights='imagenet')\n",
        "\n",
        "x = efficientnet_top.get_layer('top_dropout').output\n",
        "x = tf.keras.layers.Dense(num_classes, activation='softmax', name='predictions')(x)\n",
        "\n",
        "net_top = tf.keras.Model(inputs = efficientnet_top.input, outputs = x)\n",
        "\n",
        "for layer in efficientnet_top.layers[:267]:\n",
        "    layer.trainable = False\n",
        "\n",
        "net_top.compile(\n",
        "    loss='categorical_crossentropy',\n",
        "    optimizer=tf.keras.optimizers.Adam(learning_rate=lr_stage1),\n",
        "    metrics=['accuracy'])\n",
        "\n",
        "net_top.summary()"
      ]
    },
    {
      "cell_type": "code",
      "execution_count": null,
      "metadata": {
        "colab": {
          "base_uri": "https://localhost:8080/",
          "height": 1000
        },
        "id": "AL_FrPjrG2IN",
        "outputId": "923b9cee-2833-4a75-d2d0-5597dd6a0a88"
      },
      "outputs": [],
      "source": [
        "tf.keras.utils.plot_model(net_top, to_file= 'model.png', show_shapes = True, show_layer_names = True, show_trainable = True, show_layer_activations = True)"
      ]
    },
    {
      "cell_type": "code",
      "execution_count": null,
      "metadata": {
        "colab": {
          "base_uri": "https://localhost:8080/"
        },
        "id": "eoi4pqfweoqX",
        "outputId": "f6645d82-4806-4fd2-82de-bc4668410122"
      },
      "outputs": [],
      "source": [
        "checkpoint_filepath='checkpoint/efficientnet_stage1_top'\n",
        "model_checkpoint_callback = tf.keras.callbacks.ModelCheckpoint(\n",
        "    filepath = checkpoint_filepath,\n",
        "    save_weights_only = True,\n",
        "    monitor='val_accuracy',\n",
        "    mode='max',\n",
        "    save_best_only=True)\n",
        "\n",
        "history_stage1 = net_top.fit(train_ds_top,\n",
        "                             validation_data=val_ds_top,\n",
        "                             epochs=epoch_toptrain,\n",
        "                             validation_freq=val_freq,\n",
        "                             callbacks=[model_checkpoint_callback],\n",
        "                             verbose=1)"
      ]
    },
    {
      "cell_type": "code",
      "execution_count": null,
      "metadata": {
        "colab": {
          "base_uri": "https://localhost:8080/"
        },
        "id": "VOE4VSPDHyDG",
        "outputId": "e8be54ec-b9d8-435e-8a53-5cba2ee32834"
      },
      "outputs": [],
      "source": [
        "for i, layer in enumerate(net_top.layers):\n",
        "   print(i, layer.name)"
      ]
    },
    {
      "cell_type": "code",
      "execution_count": null,
      "metadata": {
        "colab": {
          "base_uri": "https://localhost:8080/"
        },
        "id": "GXF3m6kr5SFx",
        "outputId": "9b0976f9-ff64-4e46-c5ac-d4155a8ca5fe"
      },
      "outputs": [],
      "source": [
        "for layer in net_top.layers[:252]:\n",
        "    layer.trainable = False\n",
        "\n",
        "for layer in net_top.layers[252:]:\n",
        "    layer.trainable = True\n",
        "\n",
        "net_top.compile(\n",
        "    loss='categorical_crossentropy',\n",
        "    optimizer=tf.keras.optimizers.Adam(learning_rate=lr_stage2),\n",
        "    metrics=['accuracy'])\n",
        "\n",
        "checkpoint_filepath='checkpoint/efficientnet_stage2_top'\n",
        "model_checkpoint_callback = tf.keras.callbacks.ModelCheckpoint(\n",
        "    filepath = checkpoint_filepath,\n",
        "    save_weights_only = True,\n",
        "    monitor='val_accuracy',\n",
        "    mode='max',\n",
        "    save_best_only=True)\n",
        "\n",
        "history_stage2 = net_top.fit(train_ds_top,\n",
        "                             validation_data=val_ds_top,\n",
        "                             epochs=total_epochs-epoch_toptrain,\n",
        "                             validation_freq=val_freq,\n",
        "                             callbacks=[model_checkpoint_callback],\n",
        "                             verbose=1)"
      ]
    },
    {
      "cell_type": "code",
      "execution_count": null,
      "metadata": {
        "id": "aeu9lP88Io4c"
      },
      "outputs": [],
      "source": []
    }
  ],
  "metadata": {
    "accelerator": "GPU",
    "colab": {
      "gpuType": "T4",
      "provenance": []
    },
    "kernelspec": {
      "display_name": "Python 3",
      "name": "python3"
    }
  },
  "nbformat": 4,
  "nbformat_minor": 0
}
